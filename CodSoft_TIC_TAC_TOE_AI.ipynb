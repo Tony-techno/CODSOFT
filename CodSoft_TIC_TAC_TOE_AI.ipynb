{
  "nbformat": 4,
  "nbformat_minor": 0,
  "metadata": {
    "colab": {
      "provenance": []
    },
    "kernelspec": {
      "name": "python3",
      "display_name": "Python 3"
    },
    "language_info": {
      "name": "python"
    }
  },
  "cells": [
    {
      "cell_type": "markdown",
      "source": [
        "#**TIC-TAC-TOE AI**"
      ],
      "metadata": {
        "id": "pcmi2gPgfZz0"
      }
    },
    {
      "cell_type": "code",
      "source": [
        "import random"
      ],
      "metadata": {
        "id": "9buxgk6Zoffx"
      },
      "execution_count": 1,
      "outputs": []
    },
    {
      "cell_type": "markdown",
      "source": [
        "Function to print the Tic-Tac-Toe board"
      ],
      "metadata": {
        "id": "iv9evIKyKID8"
      }
    },
    {
      "cell_type": "code",
      "source": [
        "def print_board(board):\n",
        "    for row in board:\n",
        "        print(\" | \".join(row))\n",
        "        print(\"---------\")"
      ],
      "metadata": {
        "id": "N_W9I2gbojOX"
      },
      "execution_count": 2,
      "outputs": []
    },
    {
      "cell_type": "markdown",
      "source": [
        "Function to check if a player has won"
      ],
      "metadata": {
        "id": "2mcF7v6XKL4Q"
      }
    },
    {
      "cell_type": "code",
      "source": [
        "def is_winner(board, player):\n",
        "\n",
        "    # Check rows, columns, and diagonals for a win\n",
        "    for i in range(3):\n",
        "        if all(board[i][j] == player for j in range(3)) or \\\n",
        "           all(board[j][i] == player for j in range(3)):\n",
        "            return True\n",
        "    if all(board[i][i] == player for i in range(3)) or \\\n",
        "       all(board[i][2-i] == player for i in range(3)):\n",
        "        return True\n",
        "    return False"
      ],
      "metadata": {
        "id": "Yv8WccKIolgf"
      },
      "execution_count": 3,
      "outputs": []
    },
    {
      "cell_type": "markdown",
      "source": [
        "Function to check if the board is full (tie)"
      ],
      "metadata": {
        "id": "DSfTJEaAKTpK"
      }
    },
    {
      "cell_type": "code",
      "source": [
        "def is_board_full(board):\n",
        "    return all(cell != \" \" for row in board for cell in row)"
      ],
      "metadata": {
        "id": "v2VeuC0MonWv"
      },
      "execution_count": 4,
      "outputs": []
    },
    {
      "cell_type": "markdown",
      "source": [
        "Function to get a list of empty cells on the board"
      ],
      "metadata": {
        "id": "IJrTLRjGKVmb"
      }
    },
    {
      "cell_type": "code",
      "source": [
        "def get_empty_cells(board):\n",
        "    return [(i, j) for i in range(3) for j in range(3) if board[i][j] == \" \"]"
      ],
      "metadata": {
        "id": "Fp5X9I96oowT"
      },
      "execution_count": 5,
      "outputs": []
    },
    {
      "cell_type": "markdown",
      "source": [
        "Minimax algorithm with Alpha-Beta pruning"
      ],
      "metadata": {
        "id": "BchwKzq6KXt5"
      }
    },
    {
      "cell_type": "code",
      "source": [
        "def minimax(board, depth, is_maximizing, alpha, beta):\n",
        "    if is_winner(board, \"O\"):\n",
        "        return 1\n",
        "    if is_winner(board, \"X\"):\n",
        "        return -1\n",
        "    if is_board_full(board):\n",
        "        return 0\n",
        "\n",
        "    if is_maximizing:\n",
        "        best_score = float(\"-inf\")\n",
        "        for i, j in get_empty_cells(board):\n",
        "            board[i][j] = \"O\"\n",
        "            score = minimax(board, depth + 1, False, alpha, beta)\n",
        "            board[i][j] = \" \"\n",
        "            best_score = max(score, best_score)\n",
        "            alpha = max(alpha, score)\n",
        "            if beta <= alpha:\n",
        "                break\n",
        "        return best_score\n",
        "    else:\n",
        "        best_score = float(\"inf\")\n",
        "        for i, j in get_empty_cells(board):\n",
        "            board[i][j] = \"X\"\n",
        "            score = minimax(board, depth + 1, True, alpha, beta)\n",
        "            board[i][j] = \" \"\n",
        "            best_score = min(score, best_score)\n",
        "            beta = min(beta, score)\n",
        "            if beta <= alpha:\n",
        "                break\n",
        "        return best_score"
      ],
      "metadata": {
        "id": "AYQEmeB8orp9"
      },
      "execution_count": 6,
      "outputs": []
    },
    {
      "cell_type": "markdown",
      "source": [
        "Function to get the best move for the AI using Minimax"
      ],
      "metadata": {
        "id": "buiM38abKbJ-"
      }
    },
    {
      "cell_type": "code",
      "source": [
        "def get_best_move(board):\n",
        "    best_score = float(\"-inf\")\n",
        "    best_move = None\n",
        "    for i, j in get_empty_cells(board):\n",
        "        board[i][j] = \"O\"\n",
        "        score = minimax(board, 0, False, float(\"-inf\"), float(\"inf\"))\n",
        "        board[i][j] = \" \"\n",
        "        if score > best_score:\n",
        "            best_score = score\n",
        "            best_move = (i, j)\n",
        "    return best_move"
      ],
      "metadata": {
        "id": "cW1Lr97poui9"
      },
      "execution_count": 7,
      "outputs": []
    },
    {
      "cell_type": "markdown",
      "source": [
        "Function to play the game"
      ],
      "metadata": {
        "id": "_YlymXZDKde-"
      }
    },
    {
      "cell_type": "code",
      "source": [
        "def play_game():\n",
        "    board = [[\" \" for _ in range(3)] for _ in range(3)]\n",
        "    print(\"Welcome to Tic-Tac-Toe!\")\n",
        "    print(\"You are X, and the AI is O.\")\n",
        "    print_board(board)\n",
        "\n",
        "    while True:\n",
        "\n",
        "        # Human player's turn\n",
        "        while True:\n",
        "            try:\n",
        "                row, col = map(int, input(\"Enter your move (row and column, 0-2): \").split())\n",
        "                if 0 <= row <= 2 and 0 <= col <= 2 and board[row][col] == \" \":\n",
        "                    break\n",
        "                else:\n",
        "                    print(\"Invalid move. Try again.\")\n",
        "            except ValueError:\n",
        "                print(\"Invalid input. Please enter two numbers separated by a space.\")\n",
        "\n",
        "        board[row][col] = \"X\"\n",
        "        print_board(board)\n",
        "\n",
        "        if is_winner(board, \"X\"):\n",
        "            print(\"You win! Congratulations!\")\n",
        "            break\n",
        "        elif is_board_full(board):\n",
        "            print(\"It's a tie!\")\n",
        "            break\n",
        "\n",
        "        # AI player's turn\n",
        "        print(\"AI is making a move...\")\n",
        "        ai_row, ai_col = get_best_move(board)\n",
        "        board[ai_row][ai_col] = \"O\"\n",
        "        print_board(board)\n",
        "\n",
        "        if is_winner(board, \"O\"):\n",
        "            print(\"AI wins! Better luck next time.\")\n",
        "            break\n",
        "        elif is_board_full(board):\n",
        "            print(\"It's a tie!\")\n",
        "            break"
      ],
      "metadata": {
        "id": "c_Flmi6qox9s"
      },
      "execution_count": 8,
      "outputs": []
    },
    {
      "cell_type": "code",
      "source": [
        "if __name__ == \"__main__\":\n",
        "    play_game()"
      ],
      "metadata": {
        "colab": {
          "base_uri": "https://localhost:8080/"
        },
        "id": "y8D1597Lodth",
        "outputId": "f83967a5-4196-4082-b89a-1cd2c3b97422"
      },
      "execution_count": 9,
      "outputs": [
        {
          "output_type": "stream",
          "name": "stdout",
          "text": [
            "Welcome to Tic-Tac-Toe!\n",
            "You are X, and the AI is O.\n",
            "  |   |  \n",
            "---------\n",
            "  |   |  \n",
            "---------\n",
            "  |   |  \n",
            "---------\n",
            "Enter your move (row and column, 0-2): 0 0\n",
            "X |   |  \n",
            "---------\n",
            "  |   |  \n",
            "---------\n",
            "  |   |  \n",
            "---------\n",
            "AI is making a move...\n",
            "X |   |  \n",
            "---------\n",
            "  | O |  \n",
            "---------\n",
            "  |   |  \n",
            "---------\n",
            "Enter your move (row and column, 0-2): 0 2\n",
            "X |   | X\n",
            "---------\n",
            "  | O |  \n",
            "---------\n",
            "  |   |  \n",
            "---------\n",
            "AI is making a move...\n",
            "X | O | X\n",
            "---------\n",
            "  | O |  \n",
            "---------\n",
            "  |   |  \n",
            "---------\n",
            "Enter your move (row and column, 0-2): 2 1\n",
            "X | O | X\n",
            "---------\n",
            "  | O |  \n",
            "---------\n",
            "  | X |  \n",
            "---------\n",
            "AI is making a move...\n",
            "X | O | X\n",
            "---------\n",
            "O | O |  \n",
            "---------\n",
            "  | X |  \n",
            "---------\n",
            "Enter your move (row and column, 0-2): 1 2\n",
            "X | O | X\n",
            "---------\n",
            "O | O | X\n",
            "---------\n",
            "  | X |  \n",
            "---------\n",
            "AI is making a move...\n",
            "X | O | X\n",
            "---------\n",
            "O | O | X\n",
            "---------\n",
            "  | X | O\n",
            "---------\n",
            "Enter your move (row and column, 0-2): 0\n",
            "Invalid input. Please enter two numbers separated by a space.\n",
            "Enter your move (row and column, 0-2): 2 0\n",
            "X | O | X\n",
            "---------\n",
            "O | O | X\n",
            "---------\n",
            "X | X | O\n",
            "---------\n",
            "It's a tie!\n"
          ]
        }
      ]
    }
  ]
}