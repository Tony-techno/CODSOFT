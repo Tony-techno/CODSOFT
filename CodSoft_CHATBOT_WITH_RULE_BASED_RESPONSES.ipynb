{
  "nbformat": 4,
  "nbformat_minor": 0,
  "metadata": {
    "colab": {
      "provenance": []
    },
    "kernelspec": {
      "name": "python3",
      "display_name": "Python 3"
    },
    "language_info": {
      "name": "python"
    }
  },
  "cells": [
    {
      "cell_type": "markdown",
      "source": [
        "#**CHATBOT WITH RULE-BASED RESPONSES**"
      ],
      "metadata": {
        "id": "SuI4QkEn0bHt"
      }
    },
    {
      "cell_type": "markdown",
      "source": [
        "1. Imports:\n",
        "\n",
        "- re: For regular expression operations.\n",
        "- datetime: To get the current time and date."
      ],
      "metadata": {
        "id": "U7oWUxZn0Nx3"
      }
    },
    {
      "cell_type": "code",
      "source": [
        "import re\n",
        "from datetime import datetime"
      ],
      "metadata": {
        "id": "56FTFxWJ2gay"
      },
      "execution_count": 1,
      "outputs": []
    },
    {
      "cell_type": "markdown",
      "source": [
        "2. Chatbot Class:\n",
        "\n",
        "- __init__: Initializes the context dictionary.\n",
        "- set_context: Stores key-value pairs in the context.\n",
        "- get_context: Retrieves values from the context.\n",
        "- clear_context: Clears the context dictionary.\n",
        "- chatbot_response: Handles user input and returns appropriate responses based on predefined rules using regular expressions.\n",
        "- run: Manages the conversation flow, getting input from the user and displaying the chatbot's responses."
      ],
      "metadata": {
        "id": "GuEZkvib0YKP"
      }
    },
    {
      "cell_type": "code",
      "source": [
        "class Chatbot:\n",
        "    def __init__(self):\n",
        "\n",
        "        # Initialize an empty context dictionary to store user-specific information.\n",
        "        self.context = {}\n",
        "\n",
        "    def set_context(self, key, value):\n",
        "\n",
        "        # Set a value in the context dictionary for a given key.\n",
        "        self.context[key] = value\n",
        "\n",
        "    def get_context(self, key):\n",
        "\n",
        "        # Retrieve a value from the context dictionary for a given key.\n",
        "        return self.context.get(key, None)\n",
        "\n",
        "    def clear_context(self):\n",
        "\n",
        "        # Clear all values in the context dictionary.\n",
        "        self.context = {}\n",
        "\n",
        "    def chatbot_response(self, user_input):\n",
        "\n",
        "        # Convert user input to lowercase for uniformity in pattern matching.\n",
        "        user_input = user_input.lower()\n",
        "\n",
        "        # Check if the user input is a greeting.\n",
        "        if re.search(r'\\b(hello|hi|hey)\\b', user_input):\n",
        "            return \"Hello! How can I assist you today?\"\n",
        "\n",
        "        # Check if the user is asking about the chatbot's well-being.\n",
        "        elif re.search(r'\\bhow are you\\b', user_input):\n",
        "            return \"I'm just a chatbot, but I'm here to help you!\"\n",
        "\n",
        "        # Check if the user is asking for the chatbot's name.\n",
        "        elif re.search(r'\\bwhat is your name\\b', user_input):\n",
        "            return \"I'm your friendly chatbot!\"\n",
        "\n",
        "        # Check if the user is saying goodbye.\n",
        "        elif re.search(r'\\b(bye|goodbye)\\b', user_input):\n",
        "            return \"Goodbye! Have a great day!\"\n",
        "\n",
        "        # Check if the user is providing their name.\n",
        "        elif re.search(r'\\bmy name is (\\w+)\\b', user_input):\n",
        "\n",
        "            # Extract the user's name from the input using a regular expression group.\n",
        "            name = re.search(r'\\bmy name is (\\w+)\\b', user_input).group(1)\n",
        "\n",
        "            # Store the user's name in the context.\n",
        "            self.set_context('user_name', name)\n",
        "            return f\"Nice to meet you, {name}!\"\n",
        "\n",
        "        # Check if the user is asking for the current time.\n",
        "        elif re.search(r'\\bwhat time is it\\b', user_input):\n",
        "\n",
        "            # Get the current time in hours and minutes.\n",
        "            now = datetime.now().strftime('%H:%M')\n",
        "            return f\"The current time is {now}.\"\n",
        "\n",
        "        # Check if the user is asking for today's date.\n",
        "        elif re.search(r'\\bwhat is the date\\b|\\bwhats the date\\b', user_input):\n",
        "\n",
        "            # Get today's date in the format YYYY-MM-DD.\n",
        "            today = datetime.now().strftime('%Y-%m-%d')\n",
        "            return f\"Today's date is {today}.\"\n",
        "\n",
        "        # Check if the user is asking who they are (based on previously provided name).\n",
        "        elif re.search(r'\\bwho am i\\b', user_input):\n",
        "\n",
        "            # Retrieve the user's name from the context.\n",
        "            name = self.get_context('user_name')\n",
        "\n",
        "            if name:\n",
        "                return f\"You are {name}!\"\n",
        "            else:\n",
        "                return \"I don't know your name yet. What's your name?\"\n",
        "\n",
        "        # Check if the user wants to reset the context.\n",
        "        elif re.search(r'\\breset\\b', user_input):\n",
        "\n",
        "            # Clear the context dictionary.\n",
        "            self.clear_context()\n",
        "            return \"Context reset. How can I assist you now?\"\n",
        "\n",
        "        # Default response for unrecognized inputs.\n",
        "        else:\n",
        "            return \"I'm sorry, I don't understand that. Can you please rephrase?\"\n",
        "\n",
        "    def run(self):\n",
        "\n",
        "        # Initial greeting when the chatbot starts.\n",
        "        print('*'*70)\n",
        "        print(\"Chatbot: Hello! How can I assist you today?\")\n",
        "        print('*'*70)\n",
        "        while True:\n",
        "\n",
        "            # Get input from the user.\n",
        "            user_input = input(\"You: \")\n",
        "\n",
        "            # If the user says goodbye, end the conversation.\n",
        "            if re.search(r'\\b(bye|goodbye)\\b', user_input.lower()):\n",
        "                print(\"Chatbot: Goodbye! Have a great day!\")\n",
        "                break\n",
        "\n",
        "            # Get the chatbot's response to the user input.\n",
        "            response = self.chatbot_response(user_input)\n",
        "\n",
        "            # Print the chatbot's response.\n",
        "            print(\"Chatbot:\", response)\n",
        "            print('*'*70)"
      ],
      "metadata": {
        "id": "OeW9SXIn3wYH"
      },
      "execution_count": 2,
      "outputs": []
    },
    {
      "cell_type": "markdown",
      "source": [
        "3. Response Handling:\n",
        "\n",
        "- Uses regular expressions to identify common queries and respond accordingly.\n",
        "- Stores user-specific information (like the name) in the context.\n",
        "- Provides current time and date.\n",
        "- Can reset the context to clear stored information."
      ],
      "metadata": {
        "id": "0DOPXIxT0no-"
      }
    },
    {
      "cell_type": "markdown",
      "source": [
        "4. Create an instance of the Chatbot class and start the chatbot."
      ],
      "metadata": {
        "id": "wxT-la1r1bmB"
      }
    },
    {
      "cell_type": "code",
      "source": [
        "chatbot = Chatbot()\n",
        "chatbot.run()"
      ],
      "metadata": {
        "colab": {
          "base_uri": "https://localhost:8080/"
        },
        "id": "N_oaKMU73wzv",
        "outputId": "ac949d04-c48b-4da1-8568-c446d6e26c60"
      },
      "execution_count": 4,
      "outputs": [
        {
          "output_type": "stream",
          "name": "stdout",
          "text": [
            "**********************************************************************\n",
            "Chatbot: Hello! How can I assist you today?\n",
            "**********************************************************************\n",
            "You: hello\n",
            "Chatbot: Hello! How can I assist you today?\n",
            "**********************************************************************\n",
            "You: my name is anvesh\n",
            "Chatbot: Nice to meet you, anvesh!\n",
            "**********************************************************************\n",
            "You: what is the date\n",
            "Chatbot: Today's date is 2024-08-03.\n",
            "**********************************************************************\n",
            "You: bye\n",
            "Chatbot: Goodbye! Have a great day!\n"
          ]
        }
      ]
    }
  ]
}